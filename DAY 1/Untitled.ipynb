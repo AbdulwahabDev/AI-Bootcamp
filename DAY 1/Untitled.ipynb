{
 "cells": [
  {
   "cell_type": "code",
   "execution_count": 1,
   "id": "c5c05ee9",
   "metadata": {},
   "outputs": [],
   "source": [
    "a=10"
   ]
  },
  {
   "cell_type": "code",
   "execution_count": 2,
   "id": "c3ba4c83",
   "metadata": {},
   "outputs": [
    {
     "data": {
      "text/plain": [
       "10"
      ]
     },
     "execution_count": 2,
     "metadata": {},
     "output_type": "execute_result"
    }
   ],
   "source": [
    "a"
   ]
  },
  {
   "cell_type": "code",
   "execution_count": 3,
   "id": "f865014b",
   "metadata": {},
   "outputs": [
    {
     "name": "stdout",
     "output_type": "stream",
     "text": [
      "Hello world\n"
     ]
    }
   ],
   "source": [
    "print(\"Hello world\")"
   ]
  },
  {
   "cell_type": "code",
   "execution_count": 4,
   "id": "e7d9b12f",
   "metadata": {},
   "outputs": [
    {
     "name": "stdout",
     "output_type": "stream",
     "text": [
      "20\n"
     ]
    }
   ],
   "source": [
    "print(a+10)"
   ]
  },
  {
   "cell_type": "code",
   "execution_count": 5,
   "id": "d77ce58d",
   "metadata": {},
   "outputs": [],
   "source": [
    "CONST_NAME = \"Name\""
   ]
  },
  {
   "cell_type": "code",
   "execution_count": 6,
   "id": "f47ec864",
   "metadata": {},
   "outputs": [
    {
     "data": {
      "text/plain": [
       "'Name'"
      ]
     },
     "execution_count": 6,
     "metadata": {},
     "output_type": "execute_result"
    }
   ],
   "source": [
    "CONST_NAME"
   ]
  },
  {
   "cell_type": "code",
   "execution_count": 7,
   "id": "ae99daf3",
   "metadata": {},
   "outputs": [],
   "source": [
    "CONST_NAME = 'ss'"
   ]
  },
  {
   "cell_type": "code",
   "execution_count": 11,
   "id": "a87b2375",
   "metadata": {},
   "outputs": [
    {
     "ename": "NameError",
     "evalue": "name 'Final' is not defined",
     "output_type": "error",
     "traceback": [
      "\u001b[0;31m---------------------------------------------------------------------------\u001b[0m",
      "\u001b[0;31mNameError\u001b[0m                                 Traceback (most recent call last)",
      "Cell \u001b[0;32mIn[11], line 1\u001b[0m\n\u001b[0;32m----> 1\u001b[0m MY_CONSTANT:\u001b[43mFinal\u001b[49m \u001b[38;5;241m=\u001b[39m \u001b[38;5;241m12407\u001b[39m\n",
      "\u001b[0;31mNameError\u001b[0m: name 'Final' is not defined"
     ]
    }
   ],
   "source": [
    "MY_CONSTANT:Final = 12407"
   ]
  },
  {
   "cell_type": "code",
   "execution_count": 21,
   "id": "b8cbdf52",
   "metadata": {},
   "outputs": [
    {
     "name": "stdout",
     "output_type": "stream",
     "text": [
      "hello \u000b",
      " aa abdulwahab\talweban \n"
     ]
    }
   ],
   "source": [
    "print(\"hello \\v aa abdulwahab\\talweban \")"
   ]
  },
  {
   "cell_type": "code",
   "execution_count": 22,
   "id": "daa6f97b",
   "metadata": {},
   "outputs": [],
   "source": [
    "ss = 45.6"
   ]
  },
  {
   "cell_type": "code",
   "execution_count": 23,
   "id": "039a3bbf",
   "metadata": {},
   "outputs": [
    {
     "data": {
      "text/plain": [
       "45"
      ]
     },
     "execution_count": 23,
     "metadata": {},
     "output_type": "execute_result"
    }
   ],
   "source": [
    "int(ss)"
   ]
  },
  {
   "cell_type": "code",
   "execution_count": 24,
   "id": "9e10cd16",
   "metadata": {},
   "outputs": [
    {
     "name": "stdout",
     "output_type": "stream",
     "text": [
      "10,11\n"
     ]
    },
    {
     "data": {
      "text/plain": [
       "'10,11'"
      ]
     },
     "execution_count": 24,
     "metadata": {},
     "output_type": "execute_result"
    }
   ],
   "source": [
    "input()"
   ]
  },
  {
   "cell_type": "code",
   "execution_count": 25,
   "id": "becb4481",
   "metadata": {},
   "outputs": [
    {
     "data": {
      "text/plain": [
       "(10, 11)"
      ]
     },
     "execution_count": 25,
     "metadata": {},
     "output_type": "execute_result"
    }
   ],
   "source": [
    "eval(\"10,11\")"
   ]
  },
  {
   "cell_type": "code",
   "execution_count": null,
   "id": "22b944f6",
   "metadata": {},
   "outputs": [],
   "source": []
  },
  {
   "cell_type": "code",
   "execution_count": 26,
   "id": "c38818d8",
   "metadata": {},
   "outputs": [
    {
     "data": {
      "text/plain": [
       "0"
      ]
     },
     "execution_count": 26,
     "metadata": {},
     "output_type": "execute_result"
    }
   ],
   "source": [
    "int(False)"
   ]
  },
  {
   "cell_type": "code",
   "execution_count": 27,
   "id": "9e39d230",
   "metadata": {},
   "outputs": [
    {
     "data": {
      "text/plain": [
       "1.0"
      ]
     },
     "execution_count": 27,
     "metadata": {},
     "output_type": "execute_result"
    }
   ],
   "source": [
    "float(True)"
   ]
  },
  {
   "cell_type": "code",
   "execution_count": 28,
   "id": "92a1e06a",
   "metadata": {},
   "outputs": [
    {
     "data": {
      "text/plain": [
       "(10, 29)"
      ]
     },
     "execution_count": 28,
     "metadata": {},
     "output_type": "execute_result"
    }
   ],
   "source": [
    "eval(\"10,29\")"
   ]
  },
  {
   "cell_type": "code",
   "execution_count": 29,
   "id": "a9225202",
   "metadata": {},
   "outputs": [
    {
     "data": {
      "text/plain": [
       "(10, 12)"
      ]
     },
     "execution_count": 29,
     "metadata": {},
     "output_type": "execute_result"
    }
   ],
   "source": [
    "10,12"
   ]
  },
  {
   "cell_type": "code",
   "execution_count": null,
   "id": "65aad3cc",
   "metadata": {},
   "outputs": [],
   "source": []
  },
  {
   "cell_type": "code",
   "execution_count": null,
   "id": "5a941774",
   "metadata": {},
   "outputs": [],
   "source": []
  },
  {
   "cell_type": "code",
   "execution_count": null,
   "id": "0508c9ae",
   "metadata": {},
   "outputs": [],
   "source": []
  },
  {
   "cell_type": "code",
   "execution_count": 30,
   "id": "2bf54971",
   "metadata": {},
   "outputs": [],
   "source": [
    "count =3\n",
    "name = \"abdulwahab\""
   ]
  },
  {
   "cell_type": "code",
   "execution_count": 37,
   "id": "e7a66b27",
   "metadata": {},
   "outputs": [],
   "source": [
    "result = \"my name is {1}   and there are {0} people\".format(count,name)"
   ]
  },
  {
   "cell_type": "code",
   "execution_count": 38,
   "id": "f4f9aec4",
   "metadata": {},
   "outputs": [
    {
     "name": "stdout",
     "output_type": "stream",
     "text": [
      "my name is abdulwahab   and there are 3 people\n"
     ]
    }
   ],
   "source": [
    "print(result)"
   ]
  },
  {
   "cell_type": "code",
   "execution_count": 40,
   "id": "b8a12468",
   "metadata": {},
   "outputs": [
    {
     "name": "stdout",
     "output_type": "stream",
     "text": [
      "my name is abdulwahab  abdulwhab and there are 3 people\n"
     ]
    }
   ],
   "source": [
    "print(f\"my name is {name}  abdulwhab and there are {count} people\")"
   ]
  },
  {
   "cell_type": "code",
   "execution_count": null,
   "id": "5884ffa4",
   "metadata": {},
   "outputs": [],
   "source": []
  },
  {
   "cell_type": "code",
   "execution_count": null,
   "id": "951ec223",
   "metadata": {},
   "outputs": [],
   "source": []
  },
  {
   "cell_type": "code",
   "execution_count": null,
   "id": "2a0f4374",
   "metadata": {},
   "outputs": [],
   "source": []
  },
  {
   "cell_type": "code",
   "execution_count": null,
   "id": "b64aa709",
   "metadata": {},
   "outputs": [],
   "source": []
  },
  {
   "cell_type": "code",
   "execution_count": null,
   "id": "71f43ac5",
   "metadata": {},
   "outputs": [],
   "source": []
  },
  {
   "cell_type": "code",
   "execution_count": null,
   "id": "a21e1989",
   "metadata": {},
   "outputs": [],
   "source": []
  },
  {
   "cell_type": "code",
   "execution_count": 52,
   "id": "887adca8",
   "metadata": {},
   "outputs": [
    {
     "name": "stdout",
     "output_type": "stream",
     "text": [
      "Help on built-in function sorted in module builtins:\n",
      "\n",
      "sorted(iterable, /, *, key=None, reverse=False)\n",
      "    Return a new list containing all items from the iterable in ascending order.\n",
      "    \n",
      "    A custom key function can be supplied to customize the sort order, and the\n",
      "    reverse flag can be set to request the result in descending order.\n",
      "\n"
     ]
    }
   ],
   "source": [
    "help(sorted)"
   ]
  },
  {
   "cell_type": "code",
   "execution_count": 54,
   "id": "942b1318",
   "metadata": {},
   "outputs": [],
   "source": [
    "s = [\"a\",\"A\",\"b\",\"a\",\"B\"]"
   ]
  },
  {
   "cell_type": "code",
   "execution_count": 55,
   "id": "4e6073b0",
   "metadata": {},
   "outputs": [
    {
     "data": {
      "text/plain": [
       "['A', 'B', 'a', 'a', 'b']"
      ]
     },
     "execution_count": 55,
     "metadata": {},
     "output_type": "execute_result"
    }
   ],
   "source": [
    "sorted(s)"
   ]
  },
  {
   "cell_type": "code",
   "execution_count": 56,
   "id": "e7e56c57",
   "metadata": {},
   "outputs": [
    {
     "data": {
      "text/plain": [
       "2"
      ]
     },
     "execution_count": 56,
     "metadata": {},
     "output_type": "execute_result"
    }
   ],
   "source": [
    "s.count(\"a\")"
   ]
  },
  {
   "cell_type": "code",
   "execution_count": 65,
   "id": "8c5ccd8b",
   "metadata": {},
   "outputs": [],
   "source": [
    "sss = {\"A\":22,\"B\":44,\"c\":32}"
   ]
  },
  {
   "cell_type": "code",
   "execution_count": 68,
   "id": "3609c6fa",
   "metadata": {},
   "outputs": [
    {
     "data": {
      "text/plain": [
       "True"
      ]
     },
     "execution_count": 68,
     "metadata": {},
     "output_type": "execute_result"
    }
   ],
   "source": [
    "\"A\" in sss"
   ]
  },
  {
   "cell_type": "code",
   "execution_count": 61,
   "id": "49194ca1",
   "metadata": {},
   "outputs": [
    {
     "ename": "KeyError",
     "evalue": "0",
     "output_type": "error",
     "traceback": [
      "\u001b[0;31m---------------------------------------------------------------------------\u001b[0m",
      "\u001b[0;31mKeyError\u001b[0m                                  Traceback (most recent call last)",
      "Cell \u001b[0;32mIn[61], line 1\u001b[0m\n\u001b[0;32m----> 1\u001b[0m \u001b[43msss\u001b[49m\u001b[43m[\u001b[49m\u001b[38;5;241;43m0\u001b[39;49m\u001b[43m]\u001b[49m\n",
      "\u001b[0;31mKeyError\u001b[0m: 0"
     ]
    }
   ],
   "source": [
    "sss[0]"
   ]
  },
  {
   "cell_type": "code",
   "execution_count": 62,
   "id": "f59b6724",
   "metadata": {},
   "outputs": [],
   "source": [
    "sset = {1,4,53,2,1}"
   ]
  },
  {
   "cell_type": "code",
   "execution_count": 71,
   "id": "09d3b296",
   "metadata": {},
   "outputs": [],
   "source": [
    "sset.add(21)"
   ]
  },
  {
   "cell_type": "code",
   "execution_count": 72,
   "id": "689511b5",
   "metadata": {},
   "outputs": [
    {
     "data": {
      "text/plain": [
       "{1, 2, 4, 21, 53}"
      ]
     },
     "execution_count": 72,
     "metadata": {},
     "output_type": "execute_result"
    }
   ],
   "source": [
    "sset"
   ]
  },
  {
   "cell_type": "code",
   "execution_count": 77,
   "id": "f4174346",
   "metadata": {},
   "outputs": [
    {
     "name": "stdout",
     "output_type": "stream",
     "text": [
      "hi hi \n"
     ]
    }
   ],
   "source": [
    "if False:\n",
    "    if f < 10:\n",
    "        print(\"hi\")\n",
    "else:\n",
    "    print(\"hi hi \")"
   ]
  },
  {
   "cell_type": "code",
   "execution_count": 78,
   "id": "280554f1",
   "metadata": {},
   "outputs": [
    {
     "data": {
      "text/plain": [
       "0"
      ]
     },
     "execution_count": 78,
     "metadata": {},
     "output_type": "execute_result"
    }
   ],
   "source": [
    "1 & 0"
   ]
  },
  {
   "cell_type": "code",
   "execution_count": 81,
   "id": "fb8f9c91",
   "metadata": {},
   "outputs": [
    {
     "data": {
      "text/plain": [
       "True"
      ]
     },
     "execution_count": 81,
     "metadata": {},
     "output_type": "execute_result"
    }
   ],
   "source": [
    "10 & False == False"
   ]
  },
  {
   "cell_type": "code",
   "execution_count": null,
   "id": "5bc6bfcc",
   "metadata": {},
   "outputs": [],
   "source": []
  }
 ],
 "metadata": {
  "kernelspec": {
   "display_name": "Python 3 (ipykernel)",
   "language": "python",
   "name": "python3"
  },
  "language_info": {
   "codemirror_mode": {
    "name": "ipython",
    "version": 3
   },
   "file_extension": ".py",
   "mimetype": "text/x-python",
   "name": "python",
   "nbconvert_exporter": "python",
   "pygments_lexer": "ipython3",
   "version": "3.9.6"
  }
 },
 "nbformat": 4,
 "nbformat_minor": 5
}
