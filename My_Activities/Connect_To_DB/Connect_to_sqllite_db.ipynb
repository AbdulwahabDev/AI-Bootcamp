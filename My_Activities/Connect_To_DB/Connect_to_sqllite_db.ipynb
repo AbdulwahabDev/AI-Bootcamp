{
 "cells": [
  {
   "cell_type": "markdown",
   "metadata": {},
   "source": [
    "## تدريب تطبيقي كيف تتصل على الداتابيز \n",
    "##  sqllite من خلال\n",
    "###   Pandas من خلال مكتبة DataFrame من ثم تحويل البيانات الى"
   ]
  },
  {
   "cell_type": "markdown",
   "metadata": {},
   "source": [
    " "
   ]
  },
  {
   "cell_type": "markdown",
   "metadata": {},
   "source": [
    "# متطلبات التشغيل "
   ]
  },
  {
   "cell_type": "markdown",
   "metadata": {},
   "source": [
    "<h3 style=\"color:red\"> التاكد من وجود ملف       </h3>\n",
    "sql_lite_db_file.sqllite\n",
    "في نفس المسار"
   ]
  },
  {
   "cell_type": "markdown",
   "metadata": {},
   "source": [
    "<h3 style=\"color:red\">   تثبيت       </h3>\n",
    "<h2 style=\"color:red\">   pip install sqlalchemy       </h2>"
   ]
  },
  {
   "cell_type": "code",
   "execution_count": 1,
   "metadata": {},
   "outputs": [
    {
     "name": "stdout",
     "output_type": "stream",
     "text": [
      "Requirement already satisfied: sqlalchemy in /Users/macbookpro/Desktop/MyFiles/Training/TUWAIQ/AI_BOOOTCAMP/AI_REPO/.env3.9/lib/python3.9/site-packages (1.4.45)\n",
      "Requirement already satisfied: greenlet!=0.4.17; python_version >= \"3\" and (platform_machine == \"aarch64\" or (platform_machine == \"ppc64le\" or (platform_machine == \"x86_64\" or (platform_machine == \"amd64\" or (platform_machine == \"AMD64\" or (platform_machine == \"win32\" or platform_machine == \"WIN32\")))))) in /Users/macbookpro/Desktop/MyFiles/Training/TUWAIQ/AI_BOOOTCAMP/AI_REPO/.env3.9/lib/python3.9/site-packages (from sqlalchemy) (2.0.1)\n",
      "\u001b[33mWARNING: You are using pip version 20.2.3; however, version 22.3.1 is available.\n",
      "You should consider upgrading via the '/Users/macbookpro/Desktop/MyFiles/Training/TUWAIQ/AI_BOOOTCAMP/AI_REPO/.env3.9/bin/python -m pip install --upgrade pip' command.\u001b[0m\n",
      "Note: you may need to restart the kernel to use updated packages.\n"
     ]
    }
   ],
   "source": [
    "pip install sqlalchemy"
   ]
  },
  {
   "cell_type": "code",
   "execution_count": 6,
   "metadata": {},
   "outputs": [],
   "source": [
    "import pandas as pd \n",
    "from sqlalchemy import create_engine"
   ]
  },
  {
   "cell_type": "code",
   "execution_count": 7,
   "metadata": {},
   "outputs": [],
   "source": [
    "def CreateTable(db_connection_,TableName:str,Coulmns:dict):\n",
    "    \"\"\"\n",
    "    تسختدم هذي الفنكشن لإنشاء أي جدول \n",
    "    \"\"\"\n",
    "    try:\n",
    "        sql_comand = f\"CREATE TABLE IF NOT EXISTS {TableName} (\"\n",
    "        for ColName in Coulmns.keys():\n",
    "            sql_comand+= f\" {ColName} {Coulmns[ColName]} \"\n",
    "\n",
    "        sql_comand += \" ) ;\"\n",
    "        print(\"sql_comand = \" , sql_comand)\n",
    "        db_connection_.execute(sql_comand)\n",
    "    except Exception as ex:\n",
    "        print(\"  حدث خطأ اثناء تنفيذ \")\n",
    "        print(str(ex))"
   ]
  },
  {
   "cell_type": "code",
   "execution_count": 8,
   "metadata": {},
   "outputs": [],
   "source": [
    "def DropTable(db_connection_,TableName:str):\n",
    "    \"\"\"\n",
    "    تسختدم هذي الفنكشن لحذف أي جدول \n",
    "    \"\"\"\n",
    "    try:\n",
    "        sql_comand = f\"drop TABLE  {TableName} \"\n",
    "        print(\"sql_comand = \" , sql_comand)\n",
    "        db_connection_.execute(sql_comand)\n",
    "    except Exception as ex:\n",
    "        print(\"  حدث خطأ اثناء تنفيذ \")\n",
    "        print(str(ex))"
   ]
  },
  {
   "cell_type": "code",
   "execution_count": 9,
   "metadata": {},
   "outputs": [],
   "source": [
    "def Insert_Row_to_Table(db_connection_,TableName:str,RowValues:tuple):\n",
    "    \"\"\"\n",
    "    تسختدم هذي الفنكشن لإضافة أي سطر \n",
    "    \"\"\"\n",
    "    try:\n",
    "        sql_comand = f\"insert into {TableName} values {RowValues}\"\n",
    "        print(\"sql_comand = \" , sql_comand)\n",
    "        db_connection_.execute(sql_comand)\n",
    "    except Exception as ex:\n",
    "        print(\"  حدث خطأ اثناء تنفيذ \")\n",
    "        print(str(ex))"
   ]
  },
  {
   "cell_type": "code",
   "execution_count": 10,
   "metadata": {},
   "outputs": [],
   "source": [
    "def Select_from_table(db_connection_,TableName:str,col_select:str = \"*\",where_cond:str = \"True = True\"):\n",
    "    \"\"\"\n",
    "    تستخدم هذي الفنكشن لإستعلام عن اي جدول \n",
    "    \"\"\"\n",
    "    try:\n",
    "        sql_comand = f\"select {col_select} from {TableName} where {where_cond}\"\n",
    "        print(\"sql_comand = \" , sql_comand)\n",
    "        print(\"resultt = \")\n",
    "        result = db_connection_.execute(sql_comand).fetchall()\n",
    "        return result\n",
    "    except Exception as ex:\n",
    "        print(\"  حدث خطأ اثناء تنفيذ \")\n",
    "        print(str(ex))"
   ]
  },
  {
   "cell_type": "code",
   "execution_count": null,
   "metadata": {},
   "outputs": [],
   "source": []
  },
  {
   "cell_type": "code",
   "execution_count": 11,
   "metadata": {},
   "outputs": [
    {
     "name": "stdout",
     "output_type": "stream",
     "text": [
      "Connect_to_mysql_db.ipynb         \u001b[1m\u001b[36mData\u001b[m\u001b[m/\r\n",
      "Connect_to_sqllite_db copy.ipynb  docker-compose.yml\r\n",
      "Connect_to_sqllite_db.ipynb       sql_lite_db_file.sqllite\r\n"
     ]
    }
   ],
   "source": [
    "ls"
   ]
  },
  {
   "cell_type": "code",
   "execution_count": 13,
   "metadata": {},
   "outputs": [
    {
     "data": {
      "text/plain": [
       "sqlite:///sql_lite_db_file.sqllite"
      ]
     },
     "execution_count": 13,
     "metadata": {},
     "output_type": "execute_result"
    }
   ],
   "source": [
    "# نتصل بالداتا بيز \n",
    " \n",
    "database_ = \"sql_lite_db_file.sqllite\"\n",
    "db_connection = create_engine(f\"sqlite:///{database_}\")\n",
    "db_connection.url"
   ]
  },
  {
   "cell_type": "code",
   "execution_count": 14,
   "metadata": {},
   "outputs": [
    {
     "name": "stdout",
     "output_type": "stream",
     "text": [
      "sql_comand =  select * from students where True = True\n",
      "resultt = \n",
      "  حدث خطأ اثناء تنفيذ \n",
      "(sqlite3.OperationalError) no such table: students\n",
      "[SQL: select * from students where True = True]\n",
      "(Background on this error at: https://sqlalche.me/e/14/e3q8)\n"
     ]
    }
   ],
   "source": [
    "# نجرب نستعلم عن جدول داخل قاعدة البيانات \n",
    "Select_from_table(db_connection_=db_connection,TableName=\"students\")"
   ]
  },
  {
   "cell_type": "code",
   "execution_count": 15,
   "metadata": {},
   "outputs": [
    {
     "name": "stdout",
     "output_type": "stream",
     "text": [
      "sql_comand =  CREATE TABLE IF NOT EXISTS students ( ID int ,   Name varchar(255) ,  City varchar(255)   ) ;\n"
     ]
    }
   ],
   "source": [
    "# ننشئ الجدول \n",
    "Coulmns = {\"ID\":\"int , \",\n",
    "            \"Name\":\"varchar(255) ,\",\n",
    "            \"City\":\"varchar(255) \",}\n",
    "CreateTable(db_connection_=db_connection,TableName=\"students\",Coulmns=Coulmns)"
   ]
  },
  {
   "cell_type": "code",
   "execution_count": 16,
   "metadata": {},
   "outputs": [
    {
     "name": "stdout",
     "output_type": "stream",
     "text": [
      "sql_comand =  select * from students where True = True\n",
      "resultt = \n"
     ]
    },
    {
     "data": {
      "text/plain": [
       "[]"
      ]
     },
     "execution_count": 16,
     "metadata": {},
     "output_type": "execute_result"
    }
   ],
   "source": [
    "Select_from_table(db_connection_=db_connection,TableName=\"students\")"
   ]
  },
  {
   "cell_type": "code",
   "execution_count": 17,
   "metadata": {},
   "outputs": [
    {
     "name": "stdout",
     "output_type": "stream",
     "text": [
      "sql_comand =  insert into students values (1, 'Abdulwahab', 'Riyadh')\n",
      "sql_comand =  insert into students values (10002, 'Rakan', 'Riyadh')\n"
     ]
    }
   ],
   "source": [
    "Insert_Row_to_Table(db_connection_=db_connection, TableName=\"students\", RowValues = (1,\"Abdulwahab\",\"Riyadh\"))\n",
    "Insert_Row_to_Table(db_connection_=db_connection, TableName=\"students\", RowValues = (10002,\"Rakan\",\"Riyadh\"))"
   ]
  },
  {
   "cell_type": "code",
   "execution_count": 18,
   "metadata": {},
   "outputs": [
    {
     "name": "stdout",
     "output_type": "stream",
     "text": [
      "sql_comand =  select * from students where True = True\n",
      "resultt = \n"
     ]
    },
    {
     "data": {
      "text/plain": [
       "[(1, 'Abdulwahab', 'Riyadh'), (10002, 'Rakan', 'Riyadh')]"
      ]
     },
     "execution_count": 18,
     "metadata": {},
     "output_type": "execute_result"
    }
   ],
   "source": [
    "Select_from_table(db_connection_=db_connection,TableName=\"students\")"
   ]
  },
  {
   "cell_type": "code",
   "execution_count": null,
   "metadata": {},
   "outputs": [],
   "source": []
  },
  {
   "cell_type": "code",
   "execution_count": null,
   "metadata": {},
   "outputs": [],
   "source": []
  },
  {
   "cell_type": "code",
   "execution_count": null,
   "metadata": {},
   "outputs": [],
   "source": []
  },
  {
   "cell_type": "code",
   "execution_count": null,
   "metadata": {},
   "outputs": [],
   "source": []
  },
  {
   "cell_type": "markdown",
   "metadata": {},
   "source": [
    "#  الان نجرب نضيفف بينات من ملفات خارجيه للداتا بيز"
   ]
  },
  {
   "cell_type": "code",
   "execution_count": 19,
   "metadata": {},
   "outputs": [
    {
     "name": "stdout",
     "output_type": "stream",
     "text": [
      "Customers.csv        Sales.csv            Titles.csv\r\n",
      "Obsolete_Titles.csv  Slspers.csv\r\n"
     ]
    }
   ],
   "source": [
    "ls Data/csv"
   ]
  },
  {
   "cell_type": "code",
   "execution_count": 20,
   "metadata": {},
   "outputs": [],
   "source": [
    "\n",
    "Customers_df = pd.read_csv(\"Data/csv/Customers.csv\")\n",
    "Obsolete_Titles_df = pd.read_csv(\"Data/csv/Obsolete_Titles.csv\")\n",
    "Sales_df = pd.read_csv(\"Data/csv/Sales.csv\")\n",
    "Slspers_df = pd.read_csv(\"Data/csv/Slspers.csv\")\n",
    "Titles_df = pd.read_csv(\"Data/csv/Titles.csv\")"
   ]
  },
  {
   "cell_type": "code",
   "execution_count": 21,
   "metadata": {},
   "outputs": [
    {
     "data": {
      "text/plain": [
       "92"
      ]
     },
     "execution_count": 21,
     "metadata": {},
     "output_type": "execute_result"
    }
   ],
   "source": [
    "Customers_df.to_sql(\"Customers\",con=db_connection)\n",
    "Obsolete_Titles_df.to_sql(\"Obsolete_Titles\",con=db_connection)\n",
    "Sales_df.to_sql(\"Sales\",con=db_connection)\n",
    "Slspers_df.to_sql(\"Slspers\",con=db_connection)\n",
    "Titles_df.to_sql(\"Titles\",con=db_connection)"
   ]
  },
  {
   "cell_type": "code",
   "execution_count": null,
   "metadata": {},
   "outputs": [],
   "source": []
  },
  {
   "cell_type": "code",
   "execution_count": 22,
   "metadata": {},
   "outputs": [
    {
     "name": "stdout",
     "output_type": "stream",
     "text": [
      "sql_comand =  select * from Customers where True = True\n",
      "resultt = \n"
     ]
    },
    {
     "data": {
      "text/plain": [
       "[(1, 20151, 20330, 'Friendly Books', '19 International Dr.     ', 'Ryebrook            ', 'NY', '10573       ', 'S03'),\n",
       " (2, 20181, 20506, 'The Book Stop', '512 Columbia Road        ', 'Somerville          ', 'NJ', '08876', 'E02'),\n",
       " (3, 20309, 20151, \"Mary's Card Shoppe\", '981 Connecticut Blvd.    ', 'East Hartford       ', 'CT', '06108       ', 'S01'),\n",
       " (4, 20330, 99999, 'TechTraining', '51 Ulster St.            ', 'Denver              ', 'CO', '80237       ', 'S03')]"
      ]
     },
     "execution_count": 22,
     "metadata": {},
     "output_type": "execute_result"
    }
   ],
   "source": [
    "Select_from_table(db_connection_=db_connection,TableName=\"Customers\")[1:5]"
   ]
  },
  {
   "cell_type": "code",
   "execution_count": 23,
   "metadata": {},
   "outputs": [],
   "source": [
    "df = pd.read_sql_query(\"SELECT * FROM Customers\", con=db_connection)"
   ]
  },
  {
   "cell_type": "code",
   "execution_count": 24,
   "metadata": {},
   "outputs": [
    {
     "data": {
      "text/html": [
       "<div>\n",
       "<style scoped>\n",
       "    .dataframe tbody tr th:only-of-type {\n",
       "        vertical-align: middle;\n",
       "    }\n",
       "\n",
       "    .dataframe tbody tr th {\n",
       "        vertical-align: top;\n",
       "    }\n",
       "\n",
       "    .dataframe thead th {\n",
       "        text-align: right;\n",
       "    }\n",
       "</style>\n",
       "<table border=\"1\" class=\"dataframe\">\n",
       "  <thead>\n",
       "    <tr style=\"text-align: right;\">\n",
       "      <th></th>\n",
       "      <th>index</th>\n",
       "      <th>custnum</th>\n",
       "      <th>referredby</th>\n",
       "      <th>custname</th>\n",
       "      <th>address</th>\n",
       "      <th>city</th>\n",
       "      <th>state</th>\n",
       "      <th>zipcode</th>\n",
       "      <th>repid</th>\n",
       "    </tr>\n",
       "  </thead>\n",
       "  <tbody>\n",
       "    <tr>\n",
       "      <th>0</th>\n",
       "      <td>0</td>\n",
       "      <td>20042</td>\n",
       "      <td>20555</td>\n",
       "      <td>CK Music!</td>\n",
       "      <td>#1149 Blossom Road</td>\n",
       "      <td>Rochester</td>\n",
       "      <td>NY</td>\n",
       "      <td>14610</td>\n",
       "      <td>S01</td>\n",
       "    </tr>\n",
       "    <tr>\n",
       "      <th>1</th>\n",
       "      <td>1</td>\n",
       "      <td>20151</td>\n",
       "      <td>20330</td>\n",
       "      <td>Friendly Books</td>\n",
       "      <td>19 International Dr.</td>\n",
       "      <td>Ryebrook</td>\n",
       "      <td>NY</td>\n",
       "      <td>10573</td>\n",
       "      <td>S03</td>\n",
       "    </tr>\n",
       "    <tr>\n",
       "      <th>2</th>\n",
       "      <td>2</td>\n",
       "      <td>20181</td>\n",
       "      <td>20506</td>\n",
       "      <td>The Book Stop</td>\n",
       "      <td>512 Columbia Road</td>\n",
       "      <td>Somerville</td>\n",
       "      <td>NJ</td>\n",
       "      <td>08876</td>\n",
       "      <td>E02</td>\n",
       "    </tr>\n",
       "    <tr>\n",
       "      <th>3</th>\n",
       "      <td>3</td>\n",
       "      <td>20309</td>\n",
       "      <td>20151</td>\n",
       "      <td>Mary's Card Shoppe</td>\n",
       "      <td>981 Connecticut Blvd.</td>\n",
       "      <td>East Hartford</td>\n",
       "      <td>CT</td>\n",
       "      <td>06108</td>\n",
       "      <td>S01</td>\n",
       "    </tr>\n",
       "    <tr>\n",
       "      <th>4</th>\n",
       "      <td>4</td>\n",
       "      <td>20330</td>\n",
       "      <td>99999</td>\n",
       "      <td>TechTraining</td>\n",
       "      <td>51 Ulster St.</td>\n",
       "      <td>Denver</td>\n",
       "      <td>CO</td>\n",
       "      <td>80237</td>\n",
       "      <td>S03</td>\n",
       "    </tr>\n",
       "  </tbody>\n",
       "</table>\n",
       "</div>"
      ],
      "text/plain": [
       "   index  custnum  referredby            custname                    address  \\\n",
       "0      0    20042       20555           CK Music!  #1149 Blossom Road          \n",
       "1      1    20151       20330      Friendly Books  19 International Dr.        \n",
       "2      2    20181       20506       The Book Stop  512 Columbia Road           \n",
       "3      3    20309       20151  Mary's Card Shoppe  981 Connecticut Blvd.       \n",
       "4      4    20330       99999        TechTraining  51 Ulster St.               \n",
       "\n",
       "                   city state       zipcode repid  \n",
       "0  Rochester               NY  14610          S01  \n",
       "1  Ryebrook                NY  10573          S03  \n",
       "2  Somerville              NJ         08876   E02  \n",
       "3  East Hartford           CT  06108          S01  \n",
       "4  Denver                  CO  80237          S03  "
      ]
     },
     "execution_count": 24,
     "metadata": {},
     "output_type": "execute_result"
    }
   ],
   "source": [
    "df.head()"
   ]
  },
  {
   "cell_type": "code",
   "execution_count": null,
   "metadata": {},
   "outputs": [],
   "source": []
  },
  {
   "cell_type": "markdown",
   "metadata": {},
   "source": []
  }
 ],
 "metadata": {
  "kernelspec": {
   "display_name": "newenv3.9",
   "language": "python",
   "name": "newenv3.9"
  },
  "language_info": {
   "codemirror_mode": {
    "name": "ipython",
    "version": 3
   },
   "file_extension": ".py",
   "mimetype": "text/x-python",
   "name": "python",
   "nbconvert_exporter": "python",
   "pygments_lexer": "ipython3",
   "version": "3.9.0"
  }
 },
 "nbformat": 4,
 "nbformat_minor": 4
}
