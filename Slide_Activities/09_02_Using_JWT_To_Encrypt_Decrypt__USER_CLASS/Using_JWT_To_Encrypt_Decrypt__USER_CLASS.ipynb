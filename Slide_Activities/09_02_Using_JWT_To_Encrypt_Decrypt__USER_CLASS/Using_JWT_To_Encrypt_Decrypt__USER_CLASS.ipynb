{
 "cells": [
  {
   "cell_type": "markdown",
   "id": "3842b48b",
   "metadata": {},
   "source": [
    "# Using JWT To Encrypt Decrypt USER CLASS\n",
    "## In Python\n",
    " \n",
    "\n",
    "\n",
    "<br/> \n",
    "<br/> \n",
    "<br/> \n",
    "\n",
    "#### name : Abdulwahab alweban\n",
    "#### email : dev.abdulwahab@gmai.com\n",
    "#### Github : [AbdulwahabDev/AI-Bootcamp/tree/main/Slide_Activities/09_02_Using_JWT_To_Encrypt_Decrypt__USER_CLASS]( https://github.com/AbdulwahabDev/AI-Bootcamp/tree/main/Slide_Activities/09_02_Using_JWT_To_Encrypt_Decrypt__USER_CLASS )\n",
    " "
   ]
  },
  {
   "cell_type": "markdown",
   "id": "ba182e86",
   "metadata": {},
   "source": [
    " "
   ]
  },
  {
   "cell_type": "markdown",
   "id": "1a19230d",
   "metadata": {},
   "source": [
    " "
   ]
  },
  {
   "cell_type": "markdown",
   "id": "a57b47c2",
   "metadata": {},
   "source": [
    " "
   ]
  },
  {
   "cell_type": "markdown",
   "id": "301a54f3",
   "metadata": {},
   "source": [
    " "
   ]
  },
  {
   "cell_type": "markdown",
   "id": "27ba00bd",
   "metadata": {},
   "source": [
    " "
   ]
  },
  {
   "cell_type": "markdown",
   "id": "674f380e",
   "metadata": {},
   "source": [
    " "
   ]
  },
  {
   "cell_type": "code",
   "execution_count": 1,
   "id": "9598d1e8",
   "metadata": {},
   "outputs": [
    {
     "name": "stdout",
     "output_type": "stream",
     "text": [
      "Collecting python-jose\n",
      "  Using cached python_jose-3.3.0-py2.py3-none-any.whl (33 kB)\n",
      "Collecting pyasn1\n",
      "  Using cached pyasn1-0.4.8-py2.py3-none-any.whl (77 kB)\n",
      "Collecting ecdsa!=0.15\n",
      "  Using cached ecdsa-0.18.0-py2.py3-none-any.whl (142 kB)\n",
      "Collecting rsa\n",
      "  Using cached rsa-4.9-py3-none-any.whl (34 kB)\n",
      "Requirement already satisfied: six>=1.9.0 in /Users/macbookpro/Desktop/MyFiles/Training/TUWAIQ/AI_BOOOTCAMP/github_AI_REPO/.env3.9/lib/python3.9/site-packages (from ecdsa!=0.15->python-jose) (1.16.0)\n",
      "Installing collected packages: pyasn1, ecdsa, rsa, python-jose\n",
      "Successfully installed ecdsa-0.18.0 pyasn1-0.4.8 python-jose-3.3.0 rsa-4.9\n",
      "\u001b[33mWARNING: You are using pip version 20.2.3; however, version 22.3.1 is available.\n",
      "You should consider upgrading via the '/Users/macbookpro/Desktop/MyFiles/Training/TUWAIQ/AI_BOOOTCAMP/github_AI_REPO/.env3.9/bin/python -m pip install --upgrade pip' command.\u001b[0m\n",
      "Note: you may need to restart the kernel to use updated packages.\n"
     ]
    }
   ],
   "source": [
    "pip install python-jose"
   ]
  },
  {
   "cell_type": "code",
   "execution_count": 78,
   "id": "018115d8",
   "metadata": {},
   "outputs": [],
   "source": [
    "from jose import jwt\n",
    "from jose.exceptions import ExpiredSignatureError, JWTError"
   ]
  },
  {
   "cell_type": "code",
   "execution_count": 79,
   "id": "ab0c21e4",
   "metadata": {},
   "outputs": [
    {
     "name": "stdout",
     "output_type": "stream",
     "text": [
      "Collecting http-exceptions\n",
      "  Downloading http_exceptions-0.2.10-py3-none-any.whl (8.8 kB)\n",
      "Installing collected packages: http-exceptions\n",
      "Successfully installed http-exceptions-0.2.10\n",
      "Note: you may need to restart the kernel to use updated packages.\n"
     ]
    }
   ],
   "source": [
    "pip install http-exceptions"
   ]
  },
  {
   "cell_type": "code",
   "execution_count": 80,
   "id": "3c0910ce",
   "metadata": {},
   "outputs": [],
   "source": [
    "from http_exceptions import HTTPException "
   ]
  },
  {
   "cell_type": "code",
   "execution_count": 61,
   "id": "5c2c1633",
   "metadata": {},
   "outputs": [],
   "source": [
    "from uuid import uuid4"
   ]
  },
  {
   "cell_type": "code",
   "execution_count": 62,
   "id": "027ce245",
   "metadata": {},
   "outputs": [],
   "source": [
    "from datetime import datetime , timedelta"
   ]
  },
  {
   "cell_type": "code",
   "execution_count": 63,
   "id": "ebbda0a6",
   "metadata": {},
   "outputs": [],
   "source": [
    "class Users:\n",
    "    \n",
    "    def __init__(self,\n",
    "                 user_id_:str,\n",
    "                 user_name_:str,\n",
    "                 user_email_:str):\n",
    "        \n",
    "        self.user_id = user_id_\n",
    "        self.user_name = user_name_\n",
    "        self.user_email = user_email_\n",
    "    \n",
    "        "
   ]
  },
  {
   "cell_type": "code",
   "execution_count": 64,
   "id": "81ebd8d7",
   "metadata": {},
   "outputs": [],
   "source": [
    "User1 = Users(user_id_=\"000001\",user_name_=\"Abdulwahab\",user_email_=\"dev.abdulwahab@gmail.com\")"
   ]
  },
  {
   "cell_type": "code",
   "execution_count": 65,
   "id": "99e6c8cf",
   "metadata": {},
   "outputs": [
    {
     "data": {
      "text/plain": [
       "('000001', 'Abdulwahab', 'dev.abdulwahab@gmail.com')"
      ]
     },
     "execution_count": 65,
     "metadata": {},
     "output_type": "execute_result"
    }
   ],
   "source": [
    "User1.user_id , User1.user_name , User1.user_email"
   ]
  },
  {
   "cell_type": "code",
   "execution_count": 66,
   "id": "9d5a8987",
   "metadata": {},
   "outputs": [],
   "source": [
    "User2 = Users(user_id_=\"000002\",user_name_=\"Rakan\",user_email_=\"test@gmail.com\")"
   ]
  },
  {
   "cell_type": "code",
   "execution_count": 52,
   "id": "69621508",
   "metadata": {},
   "outputs": [
    {
     "data": {
      "text/plain": [
       "('000002', 'Rakan', 'test@gmail.com')"
      ]
     },
     "execution_count": 52,
     "metadata": {},
     "output_type": "execute_result"
    }
   ],
   "source": [
    "User2.user_id , User2.user_name , User2.user_email"
   ]
  },
  {
   "cell_type": "code",
   "execution_count": null,
   "id": "9c6814fe",
   "metadata": {},
   "outputs": [],
   "source": []
  },
  {
   "cell_type": "code",
   "execution_count": 22,
   "id": "1decd04d",
   "metadata": {},
   "outputs": [],
   "source": []
  },
  {
   "cell_type": "code",
   "execution_count": 25,
   "id": "ce5f6984",
   "metadata": {},
   "outputs": [
    {
     "data": {
      "text/plain": [
       "'1b8a4c1e-f997-411e-b395-3f1c536e676d'"
      ]
     },
     "execution_count": 25,
     "metadata": {},
     "output_type": "execute_result"
    }
   ],
   "source": [
    "str(uuid4())"
   ]
  },
  {
   "cell_type": "code",
   "execution_count": 53,
   "id": "c7263443",
   "metadata": {},
   "outputs": [],
   "source": [
    "# هذا المفتاح خاص للمشروع يستخدم مع كل كلمة سر تنحفظ ليتم التشفير منها \n",
    "# مطلوب تغييره وحفظه في مكان غير معروف ... \n",
    "AUTH_JWT_KEY = \"1b8a4c1e-f997-411e-b395-3f1c536e676d\"\n",
    "AUTH_TOKEN_EXPIRE_IN =  120 # seconds\n",
    "algorithm = \"HS256\""
   ]
  },
  {
   "cell_type": "code",
   "execution_count": 67,
   "id": "1261d2a6",
   "metadata": {},
   "outputs": [],
   "source": [
    "def genrate_jwt_for_user(user: Users):\n",
    "    now = datetime.now()\n",
    "    token_expire_at = now + timedelta(seconds=AUTH_TOKEN_EXPIRE_IN)\n",
    "    payload = {\n",
    "        \"sub\": user.user_id,\n",
    "        \"username\": user.user_name,\n",
    "        \"email\": user.user_email,\n",
    "        \"iat\": int(now.timestamp()),\n",
    "        \"exp\": int(token_expire_at.timestamp()),\n",
    "    }\n",
    "\n",
    "    encoded_jwt = jwt.encode(payload, key=AUTH_JWT_KEY, algorithm=algorithm)\n",
    "    return encoded_jwt\n"
   ]
  },
  {
   "cell_type": "code",
   "execution_count": 99,
   "id": "f833dc30",
   "metadata": {},
   "outputs": [],
   "source": [
    "def Decrypt_JWT(user_JWT:str):\n",
    "    try: \n",
    "        \n",
    "        varified_and_decoded_token = jwt.decode(user_JWT,key=AUTH_JWT_KEY,\n",
    "                                                algorithms=algorithm)\n",
    "\n",
    "    except ExpiredSignatureError:\n",
    "        return HTTPException.from_status_code(status_code=401)(message=\"ExpiredSignatureError\")\n",
    "    except JWTError:\n",
    "        return HTTPException.from_status_code(status_code=401)(message=\"Token is invalid\")\n",
    "    except Exception as ex:\n",
    "        print(\"Exception Name : \", ex.__class__.__name__)\n",
    "        print(\"Exception Name : \", str(ex))\n",
    "        return HTTPException.from_status_code(status_code=500)(message=str(ex).splitlines()[0])\n",
    "\n",
    "    return varified_and_decoded_token"
   ]
  },
  {
   "cell_type": "code",
   "execution_count": null,
   "id": "fc1d4e83",
   "metadata": {},
   "outputs": [],
   "source": []
  },
  {
   "cell_type": "code",
   "execution_count": null,
   "id": "b9d7af67",
   "metadata": {},
   "outputs": [],
   "source": []
  },
  {
   "cell_type": "code",
   "execution_count": null,
   "id": "b6c180d9",
   "metadata": {},
   "outputs": [],
   "source": []
  },
  {
   "cell_type": "code",
   "execution_count": 109,
   "id": "198bd1e9",
   "metadata": {},
   "outputs": [],
   "source": [
    "jwt_result_for_user_1 = genrate_jwt_for_user(user=User1)\n",
    "jwt_result_for_user_2 = genrate_jwt_for_user(user=User2)"
   ]
  },
  {
   "cell_type": "code",
   "execution_count": 31,
   "id": "d709c784",
   "metadata": {},
   "outputs": [],
   "source": []
  },
  {
   "cell_type": "code",
   "execution_count": null,
   "id": "ce06dd8e",
   "metadata": {},
   "outputs": [],
   "source": []
  },
  {
   "cell_type": "markdown",
   "id": "a0db457d",
   "metadata": {},
   "source": [
    "# تجربة"
   ]
  },
  {
   "cell_type": "code",
   "execution_count": 110,
   "id": "27bd87fc",
   "metadata": {},
   "outputs": [
    {
     "data": {
      "text/plain": [
       "{'sub': '000001',\n",
       " 'username': 'Abdulwahab',\n",
       " 'email': 'dev.abdulwahab@gmail.com',\n",
       " 'iat': 1672217633,\n",
       " 'exp': 1672217753}"
      ]
     },
     "execution_count": 110,
     "metadata": {},
     "output_type": "execute_result"
    }
   ],
   "source": [
    "Decrypt_JWT(jwt_result_for_user_1)"
   ]
  },
  {
   "cell_type": "code",
   "execution_count": 111,
   "id": "639780af",
   "metadata": {},
   "outputs": [
    {
     "data": {
      "text/plain": [
       "{'sub': '000002',\n",
       " 'username': 'Rakan',\n",
       " 'email': 'test@gmail.com',\n",
       " 'iat': 1672217633,\n",
       " 'exp': 1672217753}"
      ]
     },
     "execution_count": 111,
     "metadata": {},
     "output_type": "execute_result"
    }
   ],
   "source": [
    "Decrypt_JWT(jwt_result_for_user_2)"
   ]
  },
  {
   "cell_type": "code",
   "execution_count": null,
   "id": "3714d786",
   "metadata": {},
   "outputs": [],
   "source": []
  },
  {
   "cell_type": "code",
   "execution_count": 105,
   "id": "e9237351",
   "metadata": {},
   "outputs": [
    {
     "data": {
      "text/plain": [
       "UnauthorizedException(status_code=401, message='ExpiredSignatureError')"
      ]
     },
     "execution_count": 105,
     "metadata": {},
     "output_type": "execute_result"
    }
   ],
   "source": [
    "# اذا إنتهى التوكن\n",
    "# بناء على AUTH_TOKEN_EXPIRE_IN\n",
    "Decrypt_JWT(jwt_result_for_user_1)"
   ]
  },
  {
   "cell_type": "code",
   "execution_count": 108,
   "id": "619da2e0",
   "metadata": {},
   "outputs": [
    {
     "data": {
      "text/plain": [
       "UnauthorizedException(status_code=401, message='Token is invalid')"
      ]
     },
     "execution_count": 108,
     "metadata": {},
     "output_type": "execute_result"
    }
   ],
   "source": [
    "# اذا المستخدم حاول تغيير التوكن\n",
    "# بناء على jwt_result_for_user_1\n",
    "jwt_result_for_user_1 = jwt_result_for_user_1 + \"try_to_edit_token\"\n",
    "\n",
    "Decrypt_JWT(jwt_result_for_user_1)"
   ]
  },
  {
   "cell_type": "code",
   "execution_count": null,
   "id": "3407d0f1",
   "metadata": {},
   "outputs": [],
   "source": []
  }
 ],
 "metadata": {
  "kernelspec": {
   "display_name": "AI_BOOTCAMP_Py3.9",
   "language": "python",
   "name": "py3.9"
  },
  "language_info": {
   "codemirror_mode": {
    "name": "ipython",
    "version": 3
   },
   "file_extension": ".py",
   "mimetype": "text/x-python",
   "name": "python",
   "nbconvert_exporter": "python",
   "pygments_lexer": "ipython3",
   "version": "3.9.0"
  }
 },
 "nbformat": 4,
 "nbformat_minor": 5
}
