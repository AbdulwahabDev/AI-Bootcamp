{
 "cells": [
  {
   "cell_type": "markdown",
   "id": "c0d47d35",
   "metadata": {},
   "source": [
    " "
   ]
  },
  {
   "cell_type": "markdown",
   "id": "6f040972",
   "metadata": {},
   "source": [
    " "
   ]
  },
  {
   "cell_type": "markdown",
   "id": "1d13602c",
   "metadata": {},
   "source": [
    " "
   ]
  },
  {
   "cell_type": "markdown",
   "id": "4d870d05",
   "metadata": {},
   "source": [
    " "
   ]
  },
  {
   "cell_type": "markdown",
   "id": "f53c39c8",
   "metadata": {},
   "source": [
    "# How To Hash Password Using Bcrypt\n",
    "## In Python\n",
    " \n",
    " "
   ]
  },
  {
   "cell_type": "markdown",
   "id": "6468462c",
   "metadata": {},
   "source": [
    " "
   ]
  },
  {
   "cell_type": "markdown",
   "id": "41822f0c",
   "metadata": {},
   "source": [
    " "
   ]
  },
  {
   "cell_type": "markdown",
   "id": "ed560fd2",
   "metadata": {},
   "source": [
    " "
   ]
  },
  {
   "cell_type": "markdown",
   "id": "f4cff2aa",
   "metadata": {},
   "source": [
    "#### name : Abdulwahab alweban\n",
    "#### email : dev.abdulwahab@gmai.com\n",
    "#### Github : [AbdulwahabDev/AI-Bootcamp/tree/main/Slide_Activities/09_01_HowToHashPasswordUsingBcrypt]( https://github.com/AbdulwahabDev/AI-Bootcamp/tree/main/Slide_Activities/09_01_HowToHashPasswordUsingBcrypt )"
   ]
  },
  {
   "cell_type": "markdown",
   "id": "568f0439",
   "metadata": {},
   "source": [
    " "
   ]
  },
  {
   "cell_type": "markdown",
   "id": "68b67071",
   "metadata": {},
   "source": [
    " "
   ]
  },
  {
   "cell_type": "markdown",
   "id": "15fdb0a3",
   "metadata": {},
   "source": [
    " "
   ]
  },
  {
   "cell_type": "markdown",
   "id": "45856cab",
   "metadata": {},
   "source": [
    " "
   ]
  },
  {
   "cell_type": "markdown",
   "id": "945d5dbe",
   "metadata": {},
   "source": [
    " "
   ]
  },
  {
   "cell_type": "markdown",
   "id": "68ca0021",
   "metadata": {},
   "source": [
    " "
   ]
  },
  {
   "cell_type": "markdown",
   "id": "320cc5e7",
   "metadata": {},
   "source": [
    " "
   ]
  },
  {
   "cell_type": "code",
   "execution_count": 17,
   "id": "ad07a40c",
   "metadata": {},
   "outputs": [
    {
     "name": "stdout",
     "output_type": "stream",
     "text": [
      "Collecting pip\n",
      "  Using cached pip-22.3.1-py3-none-any.whl (2.1 MB)\n",
      "Installing collected packages: pip\n",
      "  Attempting uninstall: pip\n",
      "    Found existing installation: pip 20.2.3\n",
      "    Uninstalling pip-20.2.3:\n",
      "      Successfully uninstalled pip-20.2.3\n",
      "Successfully installed pip-22.3.1\n",
      "Note: you may need to restart the kernel to use updated packages.\n"
     ]
    }
   ],
   "source": [
    "pip install --upgrade pip"
   ]
  },
  {
   "cell_type": "code",
   "execution_count": 18,
   "id": "66b08313",
   "metadata": {},
   "outputs": [
    {
     "name": "stdout",
     "output_type": "stream",
     "text": [
      "Collecting bcrypt==4.0.1\n",
      "  Using cached bcrypt-4.0.1-cp36-abi3-macosx_10_10_universal2.whl (473 kB)\n",
      "Installing collected packages: bcrypt\n",
      "Successfully installed bcrypt-4.0.1\n",
      "Note: you may need to restart the kernel to use updated packages.\n"
     ]
    }
   ],
   "source": [
    "pip install bcrypt==4.0.1"
   ]
  },
  {
   "cell_type": "code",
   "execution_count": 19,
   "id": "b6b0433f",
   "metadata": {},
   "outputs": [],
   "source": [
    "import bcrypt"
   ]
  },
  {
   "cell_type": "code",
   "execution_count": 11,
   "id": "f31015c4",
   "metadata": {},
   "outputs": [],
   "source": [
    "import uuid"
   ]
  },
  {
   "cell_type": "code",
   "execution_count": 13,
   "id": "485c68a8",
   "metadata": {},
   "outputs": [
    {
     "data": {
      "text/plain": [
       "'c466caab-ed90-4ed5-ab15-0ee8a528e635'"
      ]
     },
     "execution_count": 13,
     "metadata": {},
     "output_type": "execute_result"
    }
   ],
   "source": [
    "str(uuid.uuid4())"
   ]
  },
  {
   "cell_type": "code",
   "execution_count": 52,
   "id": "79d51c60",
   "metadata": {},
   "outputs": [],
   "source": [
    "# هذا المفتاح خاص للمشروع يستخدم مع كل كلمة سر تنحفظ ليتم التشفير منها \n",
    "# مطلوب تغييره وحفظه في مكان غير معروف ... \n",
    "AUTH_SALT = \"c466caab-ed90-4ed5-ab15-0ee8a528e635\""
   ]
  },
  {
   "cell_type": "code",
   "execution_count": 53,
   "id": "e5fc6d09",
   "metadata": {},
   "outputs": [],
   "source": [
    "def hash_password(password: str):\n",
    "    hashed_bytes = bcrypt.kdf(\n",
    "        password=password.encode(\"UTF-8\"),\n",
    "        salt=AUTH_SALT.encode(\"UTF-8\"),\n",
    "        desired_key_bytes=32,\n",
    "        rounds=100,\n",
    "    )\n",
    "\n",
    "    password = str(hashed_bytes)\n",
    "    return password"
   ]
  },
  {
   "cell_type": "code",
   "execution_count": 54,
   "id": "9d26bf3d",
   "metadata": {},
   "outputs": [],
   "source": [
    "MyPasswordBeforeHash = \"Password1234\""
   ]
  },
  {
   "cell_type": "code",
   "execution_count": 55,
   "id": "61a548ab",
   "metadata": {},
   "outputs": [],
   "source": [
    "MyPasswordAfterHash = hash_password(password=MyPasswordBeforeHash)"
   ]
  },
  {
   "cell_type": "markdown",
   "id": "6f45c459",
   "metadata": {},
   "source": [
    " "
   ]
  },
  {
   "cell_type": "markdown",
   "id": "6b446f95",
   "metadata": {},
   "source": [
    " "
   ]
  },
  {
   "cell_type": "markdown",
   "id": "63b2e5b3",
   "metadata": {},
   "source": [
    " "
   ]
  },
  {
   "cell_type": "markdown",
   "id": "c9802b8a",
   "metadata": {},
   "source": [
    " "
   ]
  },
  {
   "cell_type": "code",
   "execution_count": 51,
   "id": "04bdcd3f",
   "metadata": {},
   "outputs": [
    {
     "name": "stdout",
     "output_type": "stream",
     "text": [
      "Password1234\n"
     ]
    }
   ],
   "source": [
    "print(MyPasswordBeforeHash)"
   ]
  },
  {
   "cell_type": "code",
   "execution_count": 50,
   "id": "1031c81f",
   "metadata": {},
   "outputs": [
    {
     "name": "stdout",
     "output_type": "stream",
     "text": [
      "b'-\\xe9\\x03\\xaf\\x12\\x01\\xf7\\xf4c_i\\xc1j\\xcd\\xf0K]{\\xcb=\\xf4&\\xfdfqb\\xf2.ZK\\x8e`'\n"
     ]
    }
   ],
   "source": [
    "print(MyPasswordAfterHash)"
   ]
  },
  {
   "cell_type": "markdown",
   "id": "aac437f2",
   "metadata": {},
   "source": [
    "### نتحقق "
   ]
  },
  {
   "cell_type": "code",
   "execution_count": 58,
   "id": "0217fe82",
   "metadata": {},
   "outputs": [
    {
     "data": {
      "text/plain": [
       "False"
      ]
     },
     "execution_count": 58,
     "metadata": {},
     "output_type": "execute_result"
    }
   ],
   "source": [
    "MyPasswordBeforeHash == MyPasswordAfterHash"
   ]
  },
  {
   "cell_type": "code",
   "execution_count": 59,
   "id": "26dbd245",
   "metadata": {},
   "outputs": [
    {
     "data": {
      "text/plain": [
       "True"
      ]
     },
     "execution_count": 59,
     "metadata": {},
     "output_type": "execute_result"
    }
   ],
   "source": [
    "hash_password(MyPasswordBeforeHash) == MyPasswordAfterHash"
   ]
  },
  {
   "cell_type": "code",
   "execution_count": null,
   "id": "c3d21797",
   "metadata": {},
   "outputs": [],
   "source": []
  },
  {
   "cell_type": "code",
   "execution_count": null,
   "id": "09cd5caf",
   "metadata": {},
   "outputs": [],
   "source": []
  }
 ],
 "metadata": {
  "kernelspec": {
   "display_name": "AI_BOOTCAMP_Py3.9",
   "language": "python",
   "name": "py3.9"
  },
  "language_info": {
   "codemirror_mode": {
    "name": "ipython",
    "version": 3
   },
   "file_extension": ".py",
   "mimetype": "text/x-python",
   "name": "python",
   "nbconvert_exporter": "python",
   "pygments_lexer": "ipython3",
   "version": "3.9.0"
  }
 },
 "nbformat": 4,
 "nbformat_minor": 5
}
