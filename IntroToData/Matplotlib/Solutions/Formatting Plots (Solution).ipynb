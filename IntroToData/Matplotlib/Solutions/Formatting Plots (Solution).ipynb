{
 "cells": [
  {
   "cell_type": "markdown",
   "metadata": {},
   "source": [
    "# Import software libraries and load the dataset"
   ]
  },
  {
   "cell_type": "code",
   "execution_count": null,
   "metadata": {},
   "outputs": [],
   "source": [
    "import sys\n",
    "import numpy as np\n",
    "import pandas as pd\n",
    "import matplotlib as mpl\n",
    "import matplotlib.pyplot as plt\n",
    "\n",
    "# Summarize software libraries used.\n",
    "print('Libraries used in this project:')\n",
    "print('- Python {}'.format(sys.version))\n",
    "print('- NumPy {}'.format(np.__version__))\n",
    "print('- pandas {}'.format(pd.__version__))\n",
    "print('- Matplotlib {}'.format(mpl.__version__))\n",
    "\n",
    "# Load the dataset.\n",
    "stores_df = pd.read_csv('/home/student/DSTIP/Matplotlib/data/stores_data_full_clean.csv',\n",
    "                        index_col = 0)\n",
    "stores_df['Date'] = pd.to_datetime(stores_df['Date'])\n",
    "print('\\nLoaded dataset.')\n",
    "\n",
    "# Format floats with comma in thousands place\n",
    "pd.options.display.float_format = '{:,.2f}'.format"
   ]
  },
  {
   "cell_type": "markdown",
   "metadata": {},
   "source": [
    "# Generate revenue line plots using a built-in style"
   ]
  },
  {
   "cell_type": "code",
   "execution_count": null,
   "metadata": {},
   "outputs": [],
   "source": [
    "jan = stores_df[stores_df['Date'].dt.month == 1]\n",
    "feb = stores_df[stores_df['Date'].dt.month == 2]\n",
    "\n",
    "jan_rev = stores_df.groupby(jan['Date'].dt.day)['Revenue'].sum()\n",
    "feb_rev = stores_df.groupby(feb['Date'].dt.day)['Revenue'].sum()\n",
    "\n",
    "jan_rev.head()"
   ]
  },
  {
   "cell_type": "code",
   "execution_count": null,
   "metadata": {},
   "outputs": [],
   "source": [
    "plt.style.use('fivethirtyeight')\n",
    "fig, ax = plt.subplots(figsize = (8, 6))\n",
    "ax.plot(jan_rev.index, jan_rev, linestyle = ':', label = 'January')\n",
    "ax.plot(feb_rev.index, feb_rev, label = 'February')"
   ]
  },
  {
   "cell_type": "markdown",
   "metadata": {},
   "source": [
    "# Add a legend, title, and axis labels to the plot"
   ]
  },
  {
   "cell_type": "code",
   "execution_count": null,
   "metadata": {},
   "outputs": [],
   "source": [
    "ax.legend(frameon = False)\n",
    "fig"
   ]
  },
  {
   "cell_type": "code",
   "execution_count": null,
   "metadata": {},
   "outputs": [],
   "source": [
    "ax.set(title = 'Daily Revenue for One Month',\n",
    "       xlabel = 'Days', ylabel = 'Revenue (USD)')\n",
    "fig"
   ]
  },
  {
   "cell_type": "markdown",
   "metadata": {},
   "source": [
    "# Change axis limits and modify axis ticks"
   ]
  },
  {
   "cell_type": "code",
   "execution_count": null,
   "metadata": {},
   "outputs": [],
   "source": [
    "ax.set_ylim(bottom = 0, top = 8000)\n",
    "fig"
   ]
  },
  {
   "cell_type": "code",
   "execution_count": null,
   "metadata": {},
   "outputs": [],
   "source": [
    "from matplotlib.ticker import AutoMinorLocator\n",
    "\n",
    "ax.tick_params(axis = 'both', pad = 15, labelsize = 16)\n",
    "ax.xaxis.set_minor_locator(AutoMinorLocator())\n",
    "ax.tick_params(axis = 'x', which = 'minor', direction = 'in',\n",
    "               length = 10, width = 1, color = 'grey')\n",
    "fig"
   ]
  },
  {
   "cell_type": "markdown",
   "metadata": {},
   "source": [
    "# Add an annotation explaining that a particularly sharp drop in revenue was caused by a snowstorm in the region"
   ]
  },
  {
   "cell_type": "code",
   "execution_count": null,
   "metadata": {},
   "outputs": [],
   "source": [
    "arrow_format = {'color': 'black', 'width': 2, 'headwidth': 8}\n",
    "ax.annotate('Snowstorm', xy = (12.5, 990), xytext = (4.5, 900),\n",
    "            arrowprops = arrow_format, color = 'black')\n",
    "fig"
   ]
  },
  {
   "cell_type": "markdown",
   "metadata": {},
   "source": [
    "# Generate scatter plots of unit price and gross income, in which each plot is color mapped to COGS, quantity, or customer rating"
   ]
  },
  {
   "cell_type": "code",
   "execution_count": null,
   "metadata": {},
   "outputs": [],
   "source": [
    "x = stores_df['UnitPrice']\n",
    "y = stores_df['GrossIncome']\n",
    "cmap = 'Blues'\n",
    "\n",
    "plt.style.use('default')\n",
    "fig, ax = plt.subplots(1, 3, sharey = 'row', figsize = (16, 4))\n",
    "plot1 = ax[0].scatter(x, y, c = stores_df['COGS'], cmap = cmap)\n",
    "plot2 = ax[1].scatter(x, y, c = stores_df['Quantity'], cmap = cmap)\n",
    "plot3 = ax[2].scatter(x, y, c = stores_df['CustomerRating'], cmap = cmap)"
   ]
  },
  {
   "cell_type": "markdown",
   "metadata": {},
   "source": [
    "# Assign color bars to each axis in the figure"
   ]
  },
  {
   "cell_type": "code",
   "execution_count": null,
   "metadata": {},
   "outputs": [],
   "source": [
    "fig.colorbar(plot1, ax = ax[0])\n",
    "fig.colorbar(plot2, ax = ax[1])\n",
    "fig.colorbar(plot3, ax = ax[2])\n",
    "fig"
   ]
  },
  {
   "cell_type": "markdown",
   "metadata": {},
   "source": [
    "# Add titles and axis labels, and format text"
   ]
  },
  {
   "cell_type": "code",
   "execution_count": null,
   "metadata": {},
   "outputs": [],
   "source": [
    "ax[0].set_title('COGS', weight = 'bold')\n",
    "ax[1].set_title('Quantity', weight = 'bold')\n",
    "ax[2].set_title('Customer Rating', weight = 'bold')\n",
    "fig.suptitle('Effect of Unit Price on Gross Income', size = 16,\n",
    "             weight = 'bold', c = 'darkblue', y = 1.03)\n",
    "fig"
   ]
  },
  {
   "cell_type": "code",
   "execution_count": null,
   "metadata": {},
   "outputs": [],
   "source": [
    "for i in range(0, 3):\n",
    "    ax[i].set_xlabel('Unit Price (USD)')\n",
    "    \n",
    "ax[0].set_ylabel('Gross Income\\n(USD)', labelpad = 50,\n",
    "                 rotation = 'horizontal')\n",
    "fig"
   ]
  }
 ],
 "metadata": {
  "kernelspec": {
   "display_name": "Python 3",
   "language": "python",
   "name": "python3"
  },
  "language_info": {
   "codemirror_mode": {
    "name": "ipython",
    "version": 3
   },
   "file_extension": ".py",
   "mimetype": "text/x-python",
   "name": "python",
   "nbconvert_exporter": "python",
   "pygments_lexer": "ipython3",
   "version": "3.7.4"
  }
 },
 "nbformat": 4,
 "nbformat_minor": 2
}
