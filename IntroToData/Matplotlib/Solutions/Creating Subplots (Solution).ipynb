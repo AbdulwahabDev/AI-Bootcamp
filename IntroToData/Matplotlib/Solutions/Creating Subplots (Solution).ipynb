{
 "cells": [
  {
   "cell_type": "markdown",
   "metadata": {},
   "source": [
    "# Import software libraries and load the dataset"
   ]
  },
  {
   "cell_type": "code",
   "execution_count": null,
   "metadata": {},
   "outputs": [],
   "source": [
    "import sys\n",
    "import numpy as np\n",
    "import pandas as pd\n",
    "import matplotlib as mpl\n",
    "import matplotlib.pyplot as plt\n",
    "\n",
    "# Summarize software libraries used.\n",
    "print('Libraries used in this project:')\n",
    "print('- Python {}'.format(sys.version))\n",
    "print('- NumPy {}'.format(np.__version__))\n",
    "print('- pandas {}'.format(pd.__version__))\n",
    "print('- Matplotlib {}'.format(mpl.__version__))\n",
    "\n",
    "# Load the dataset.\n",
    "month_acc = pd.read_csv('/home/student/DSTIP/Matplotlib/data/daily_accounting_by_month.csv',\n",
    "                        index_col = 0, header = [0, 1])\n",
    "print('\\nLoaded dataset.')\n",
    "\n",
    "# Format floats with comma in thousands place\n",
    "pd.options.display.float_format = '{:,.2f}'.format"
   ]
  },
  {
   "cell_type": "markdown",
   "metadata": {},
   "source": [
    "# Generate a modular plot showing revenue for both January and February"
   ]
  },
  {
   "cell_type": "code",
   "execution_count": null,
   "metadata": {},
   "outputs": [],
   "source": [
    "month_acc.head(10)"
   ]
  },
  {
   "cell_type": "code",
   "execution_count": null,
   "metadata": {},
   "outputs": [],
   "source": [
    "fig = plt.figure()\n",
    "ax = fig.add_axes([0, 0, 1, 1])\n",
    "ax.plot(month_acc.index, month_acc.loc[:, ('Revenue', 'January')])\n",
    "ax.plot(month_acc.index, month_acc.loc[:, ('Revenue', 'February')])"
   ]
  },
  {
   "cell_type": "markdown",
   "metadata": {},
   "source": [
    "# Generate subplots comparing revenue across the months"
   ]
  },
  {
   "cell_type": "code",
   "execution_count": null,
   "metadata": {},
   "outputs": [],
   "source": [
    "fig, ax = plt.subplots(1, 3, figsize = (15, 5))\n",
    "ax[0].plot(month_acc.index, month_acc.loc[:, ('Revenue', 'January')])\n",
    "ax[1].plot(month_acc.index, month_acc.loc[:, ('Revenue', 'February')])\n",
    "ax[2].plot(month_acc.index, month_acc.loc[:, ('Revenue', 'March')])"
   ]
  },
  {
   "cell_type": "markdown",
   "metadata": {},
   "source": [
    "# Generate subplots comparing performance for January vs. February"
   ]
  },
  {
   "cell_type": "code",
   "execution_count": null,
   "metadata": {},
   "outputs": [],
   "source": [
    "fig, ax = plt.subplots(1, 3, figsize = (15, 5))\n",
    "\n",
    "measures = ['Revenue', 'COGS', 'GrossIncome']\n",
    "\n",
    "col = 0\n",
    "\n",
    "for measure in measures:\n",
    "    ax[col].plot(month_acc.index, month_acc.loc[:, (measure, 'January')])\n",
    "    ax[col].plot(month_acc.index, month_acc.loc[:, (measure, 'February')])\n",
    "    col += 1"
   ]
  },
  {
   "cell_type": "markdown",
   "metadata": {},
   "source": [
    "# Generate subplots with shared axes"
   ]
  },
  {
   "cell_type": "code",
   "execution_count": null,
   "metadata": {},
   "outputs": [],
   "source": [
    "fig, ax = plt.subplots(3, 2, sharex = 'col', sharey = 'all',\n",
    "                       figsize = (10, 12))\n",
    "\n",
    "months = ['January', 'February', 'March']\n",
    "row = 0\n",
    "\n",
    "for month in months:\n",
    "    ax[row, 0].plot(month_acc.index,\n",
    "                    month_acc.loc[:, ('Revenue', month)])\n",
    "    ax[row, 1].plot(month_acc.index,\n",
    "                    month_acc.loc[:, ('GrossIncome', month)])\n",
    "    row += 1"
   ]
  },
  {
   "cell_type": "markdown",
   "metadata": {},
   "source": [
    "# Generate more complex subplots using a `GridSpec` object"
   ]
  },
  {
   "cell_type": "code",
   "execution_count": null,
   "metadata": {},
   "outputs": [],
   "source": [
    "# Set up grid before plotting.\n",
    "fig = plt.figure(figsize = (15, 6))\n",
    "grid = fig.add_gridspec(2, 3, width_ratios = [.25, .45, .25])\n",
    "\n",
    "ax_l1 = fig.add_subplot(grid[0, 0])\n",
    "ax_l2 = fig.add_subplot(grid[1, 0])\n",
    "ax_mid = fig.add_subplot(grid[:, 1])\n",
    "ax_r1 = fig.add_subplot(grid[0, 2])\n",
    "ax_r2 = fig.add_subplot(grid[1, 2])"
   ]
  },
  {
   "cell_type": "code",
   "execution_count": null,
   "metadata": {},
   "outputs": [],
   "source": [
    "ax_l1.plot(month_acc.index, month_acc.loc[:, ('Revenue', 'January')])\n",
    "ax_l2.plot(month_acc.index, month_acc.loc[:, ('Revenue', 'February')])\n",
    "ax_mid.plot(month_acc.index, month_acc.loc[:, ('GrossIncome', 'January')])\n",
    "ax_mid.plot(month_acc.index, month_acc.loc[:, ('GrossIncome', 'February')])\n",
    "ax_r1.plot(month_acc.index, month_acc.loc[:, ('COGS', 'January')])\n",
    "ax_r2.plot(month_acc.index, month_acc.loc[:, ('COGS', 'February')])\n",
    "fig"
   ]
  }
 ],
 "metadata": {
  "kernelspec": {
   "display_name": "Python 3",
   "language": "python",
   "name": "python3"
  },
  "language_info": {
   "codemirror_mode": {
    "name": "ipython",
    "version": 3
   },
   "file_extension": ".py",
   "mimetype": "text/x-python",
   "name": "python",
   "nbconvert_exporter": "python",
   "pygments_lexer": "ipython3",
   "version": "3.7.4"
  }
 },
 "nbformat": 4,
 "nbformat_minor": 2
}
